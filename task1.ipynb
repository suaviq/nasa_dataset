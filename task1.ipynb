{
 "cells": [
  {
   "cell_type": "code",
   "execution_count": 1,
   "metadata": {},
   "outputs": [],
   "source": [
    "# 1.  Napisz program w Pythonie, który pobiera dane json i zwraca plik CSV z danymi.\n",
    "# 2.  Wgraj wygenerowany plik CSV do Google Sheets.\n",
    "# 3.  W nowym arkuszu stwórz tabelę przestawną, która przedstawia ile meteorów danej klasy spadło w danym roku."
   ]
  },
  {
   "cell_type": "code",
   "execution_count": 10,
   "metadata": {},
   "outputs": [
    {
     "name": "stdout",
     "output_type": "stream",
     "text": [
      "Your browser has been opened to visit:\n",
      "\n",
      "    https://accounts.google.com/o/oauth2/auth?client_id=505264712938-seano1obgad976pfvg351a5s4oc03647.apps.googleusercontent.com&redirect_uri=http%3A%2F%2Flocalhost%3A8080%2F&scope=https%3A%2F%2Fwww.googleapis.com%2Fauth%2Fdrive&access_type=offline&response_type=code\n",
      "\n",
      "Authentication successful.\n"
     ]
    }
   ],
   "source": [
    "import urllib.request\n",
    "import json, csv\n",
    "import pandas as pd\n",
    "import os\n",
    "from googleapiclient.http import MediaFileUpload\n",
    "from pydrive.auth import GoogleAuth\n",
    "from pydrive.drive import GoogleDrive\n",
    "\n",
    "gauth = GoogleAuth()\n",
    "gauth.LocalWebserverAuth() \n",
    "drive = GoogleDrive(gauth)\n",
    "\n"
   ]
  },
  {
   "cell_type": "code",
   "execution_count": 37,
   "metadata": {},
   "outputs": [],
   "source": [
    "def json_to_csv(link: str, name:str):\n",
    "    data = dict()\n",
    "    with urllib.request.urlopen(link) as url:\n",
    "        data = json.loads(url.read().decode())\n",
    "        #print(data)\n",
    "    with open(f'{name}.json', 'w', ) as f:\n",
    "        json.dump(data, f, ensure_ascii=False, indent=4)\n",
    "    new_data = list()\n",
    "    for d in data:\n",
    "        new_d = dict()\n",
    "        for key, value in d.items():\n",
    "            if not isinstance(value, dict):\n",
    "                new_d[key] = value\n",
    "            else:\n",
    "                for k, v in value.items():\n",
    "                    new_d[key + \"_\" + k] = v\n",
    "            new_data.append(new_d)\n",
    "    df = pd.read_json('data.json')\n",
    "    df = pd.DataFrame(new_data)\n",
    "    df.to_csv(rf'{name}.csv', index = None)\n",
    "    return df"
   ]
  },
  {
   "cell_type": "code",
   "execution_count": 39,
   "metadata": {},
   "outputs": [],
   "source": [
    "df = json_to_csv(\"https://data.nasa.gov/resource/gh4g-9sfh.json\", 'data')"
   ]
  },
  {
   "cell_type": "code",
   "execution_count": 48,
   "metadata": {},
   "outputs": [],
   "source": [
    "pivot_table = df.groupby([\"year\", \"recclass\"])[\"id\"].count().to_csv(\"pivot_table.csv\")"
   ]
  },
  {
   "cell_type": "code",
   "execution_count": 50,
   "metadata": {},
   "outputs": [],
   "source": [
    "def csv_to_google_sheets(file_path:str, file_name:str, google_folder:list = None):\n",
    "    if not os.path.exists(file_path):\n",
    "        print(f'{file_path} not found.')\n",
    "        return\n",
    "    try:\n",
    "        file = drive.CreateFile({\"mimeType\":\"text/csv\", \"parents\":[{\"kind\": \"drive#fileLink\", \"id\": google_folder}]})\n",
    "        file.SetContentFile(f'{file_name}.csv')\n",
    "        file.Upload({'convert': True})\n",
    "        print(file)\n",
    "        return file\n",
    "    except Exception as exp:\n",
    "        print(exp)\n",
    "        return    \n",
    "    "
   ]
  },
  {
   "cell_type": "code",
   "execution_count": 52,
   "metadata": {},
   "outputs": [
    {
     "name": "stdout",
     "output_type": "stream",
     "text": [
      "GoogleDriveFile({'mimeType': 'application/vnd.google-apps.spreadsheet', 'parents': [{'kind': 'drive#parentReference', 'id': '18xiAQC_UQxb0bhi3NNPDevBKlUztV5fl', 'selfLink': 'https://www.googleapis.com/drive/v2/files/1MxZAY5EBtsRVCM246PXZWEtbBJmiH0nNkzSzHnLvaGk/parents/18xiAQC_UQxb0bhi3NNPDevBKlUztV5fl', 'parentLink': 'https://www.googleapis.com/drive/v2/files/18xiAQC_UQxb0bhi3NNPDevBKlUztV5fl', 'isRoot': False}], 'title': 'data', 'kind': 'drive#file', 'id': '1MxZAY5EBtsRVCM246PXZWEtbBJmiH0nNkzSzHnLvaGk', 'etag': '\"MTY1MTQzMDQxNDEzNA\"', 'selfLink': 'https://www.googleapis.com/drive/v2/files/1MxZAY5EBtsRVCM246PXZWEtbBJmiH0nNkzSzHnLvaGk', 'webContentLink': 'https://drive.google.com/uc?id=1MxZAY5EBtsRVCM246PXZWEtbBJmiH0nNkzSzHnLvaGk&export=download', 'alternateLink': 'https://docs.google.com/spreadsheets/d/1MxZAY5EBtsRVCM246PXZWEtbBJmiH0nNkzSzHnLvaGk/edit?usp=drivesdk', 'embedLink': 'https://docs.google.com/spreadsheets/d/1MxZAY5EBtsRVCM246PXZWEtbBJmiH0nNkzSzHnLvaGk/htmlembed?ouid=107768623538409361715', 'iconLink': 'https://drive-thirdparty.googleusercontent.com/16/type/application/vnd.google-apps.spreadsheet', 'labels': {'starred': False, 'hidden': False, 'trashed': False, 'restricted': False, 'viewed': True}, 'copyRequiresWriterPermission': False, 'createdDate': '2022-05-01T18:40:14.063Z', 'modifiedDate': '2022-05-01T18:40:14.134Z', 'modifiedByMeDate': '2022-05-01T18:40:14.134Z', 'lastViewedByMeDate': '2022-05-01T18:40:14.063Z', 'markedViewedByMeDate': '1970-01-01T00:00:00.000Z', 'version': '4', 'exportLinks': {'application/x-vnd.oasis.opendocument.spreadsheet': 'https://docs.google.com/spreadsheets/export?id=1MxZAY5EBtsRVCM246PXZWEtbBJmiH0nNkzSzHnLvaGk&exportFormat=ods', 'text/tab-separated-values': 'https://docs.google.com/spreadsheets/export?id=1MxZAY5EBtsRVCM246PXZWEtbBJmiH0nNkzSzHnLvaGk&exportFormat=tsv', 'application/pdf': 'https://docs.google.com/spreadsheets/export?id=1MxZAY5EBtsRVCM246PXZWEtbBJmiH0nNkzSzHnLvaGk&exportFormat=pdf', 'application/vnd.openxmlformats-officedocument.spreadsheetml.sheet': 'https://docs.google.com/spreadsheets/export?id=1MxZAY5EBtsRVCM246PXZWEtbBJmiH0nNkzSzHnLvaGk&exportFormat=xlsx', 'text/csv': 'https://docs.google.com/spreadsheets/export?id=1MxZAY5EBtsRVCM246PXZWEtbBJmiH0nNkzSzHnLvaGk&exportFormat=csv', 'application/zip': 'https://docs.google.com/spreadsheets/export?id=1MxZAY5EBtsRVCM246PXZWEtbBJmiH0nNkzSzHnLvaGk&exportFormat=zip', 'application/vnd.oasis.opendocument.spreadsheet': 'https://docs.google.com/spreadsheets/export?id=1MxZAY5EBtsRVCM246PXZWEtbBJmiH0nNkzSzHnLvaGk&exportFormat=ods'}, 'userPermission': {'kind': 'drive#permission', 'etag': '\"vyvtJ6Lj-mPEP5DQxW-t1X1r6JI\"', 'id': 'me', 'selfLink': 'https://www.googleapis.com/drive/v2/files/1MxZAY5EBtsRVCM246PXZWEtbBJmiH0nNkzSzHnLvaGk/permissions/me', 'role': 'owner', 'type': 'user', 'pendingOwner': False}, 'fileSize': '1', 'quotaBytesUsed': '1', 'ownerNames': ['Alicja Senczyna'], 'owners': [{'kind': 'drive#user', 'displayName': 'Alicja Senczyna', 'picture': {'url': 'https://lh3.googleusercontent.com/a-/AOh14GhAh4EHg2nPOrs0X5a8fC6BBGPqeHyxSyu5fPTdgks=s64'}, 'isAuthenticatedUser': True, 'permissionId': '17816284780177274399', 'emailAddress': 'alasen24@gmail.com'}], 'lastModifyingUserName': 'Alicja Senczyna', 'lastModifyingUser': {'kind': 'drive#user', 'displayName': 'Alicja Senczyna', 'picture': {'url': 'https://lh3.googleusercontent.com/a-/AOh14GhAh4EHg2nPOrs0X5a8fC6BBGPqeHyxSyu5fPTdgks=s64'}, 'isAuthenticatedUser': True, 'permissionId': '17816284780177274399', 'emailAddress': 'alasen24@gmail.com'}, 'capabilities': {'canCopy': True, 'canEdit': True}, 'editable': True, 'copyable': True, 'writersCanShare': True, 'shared': False, 'explicitlyTrashed': False, 'appDataContents': False, 'spaces': ['drive']})\n",
      "GoogleDriveFile({'mimeType': 'application/vnd.google-apps.spreadsheet', 'parents': [{'kind': 'drive#parentReference', 'id': '18xiAQC_UQxb0bhi3NNPDevBKlUztV5fl', 'selfLink': 'https://www.googleapis.com/drive/v2/files/1FVdO9yRzxG4lUtj0KjeQ2XgjApXz7DZ-sSQm8Bd_oU0/parents/18xiAQC_UQxb0bhi3NNPDevBKlUztV5fl', 'parentLink': 'https://www.googleapis.com/drive/v2/files/18xiAQC_UQxb0bhi3NNPDevBKlUztV5fl', 'isRoot': False}], 'title': 'pivot_table', 'kind': 'drive#file', 'id': '1FVdO9yRzxG4lUtj0KjeQ2XgjApXz7DZ-sSQm8Bd_oU0', 'etag': '\"MTY1MTQzMDQxNzYzMQ\"', 'selfLink': 'https://www.googleapis.com/drive/v2/files/1FVdO9yRzxG4lUtj0KjeQ2XgjApXz7DZ-sSQm8Bd_oU0', 'webContentLink': 'https://drive.google.com/uc?id=1FVdO9yRzxG4lUtj0KjeQ2XgjApXz7DZ-sSQm8Bd_oU0&export=download', 'alternateLink': 'https://docs.google.com/spreadsheets/d/1FVdO9yRzxG4lUtj0KjeQ2XgjApXz7DZ-sSQm8Bd_oU0/edit?usp=drivesdk', 'embedLink': 'https://docs.google.com/spreadsheets/d/1FVdO9yRzxG4lUtj0KjeQ2XgjApXz7DZ-sSQm8Bd_oU0/htmlembed?ouid=107768623538409361715', 'iconLink': 'https://drive-thirdparty.googleusercontent.com/16/type/application/vnd.google-apps.spreadsheet', 'labels': {'starred': False, 'hidden': False, 'trashed': False, 'restricted': False, 'viewed': True}, 'copyRequiresWriterPermission': False, 'createdDate': '2022-05-01T18:40:17.523Z', 'modifiedDate': '2022-05-01T18:40:17.631Z', 'modifiedByMeDate': '2022-05-01T18:40:17.631Z', 'lastViewedByMeDate': '2022-05-01T18:40:17.523Z', 'markedViewedByMeDate': '1970-01-01T00:00:00.000Z', 'version': '4', 'exportLinks': {'application/x-vnd.oasis.opendocument.spreadsheet': 'https://docs.google.com/spreadsheets/export?id=1FVdO9yRzxG4lUtj0KjeQ2XgjApXz7DZ-sSQm8Bd_oU0&exportFormat=ods', 'text/tab-separated-values': 'https://docs.google.com/spreadsheets/export?id=1FVdO9yRzxG4lUtj0KjeQ2XgjApXz7DZ-sSQm8Bd_oU0&exportFormat=tsv', 'application/pdf': 'https://docs.google.com/spreadsheets/export?id=1FVdO9yRzxG4lUtj0KjeQ2XgjApXz7DZ-sSQm8Bd_oU0&exportFormat=pdf', 'application/vnd.openxmlformats-officedocument.spreadsheetml.sheet': 'https://docs.google.com/spreadsheets/export?id=1FVdO9yRzxG4lUtj0KjeQ2XgjApXz7DZ-sSQm8Bd_oU0&exportFormat=xlsx', 'text/csv': 'https://docs.google.com/spreadsheets/export?id=1FVdO9yRzxG4lUtj0KjeQ2XgjApXz7DZ-sSQm8Bd_oU0&exportFormat=csv', 'application/zip': 'https://docs.google.com/spreadsheets/export?id=1FVdO9yRzxG4lUtj0KjeQ2XgjApXz7DZ-sSQm8Bd_oU0&exportFormat=zip', 'application/vnd.oasis.opendocument.spreadsheet': 'https://docs.google.com/spreadsheets/export?id=1FVdO9yRzxG4lUtj0KjeQ2XgjApXz7DZ-sSQm8Bd_oU0&exportFormat=ods'}, 'userPermission': {'kind': 'drive#permission', 'etag': '\"1B98iqQvdc4AG8SUir2yvVNWPH8\"', 'id': 'me', 'selfLink': 'https://www.googleapis.com/drive/v2/files/1FVdO9yRzxG4lUtj0KjeQ2XgjApXz7DZ-sSQm8Bd_oU0/permissions/me', 'role': 'owner', 'type': 'user', 'pendingOwner': False}, 'fileSize': '1', 'quotaBytesUsed': '1', 'ownerNames': ['Alicja Senczyna'], 'owners': [{'kind': 'drive#user', 'displayName': 'Alicja Senczyna', 'picture': {'url': 'https://lh3.googleusercontent.com/a-/AOh14GhAh4EHg2nPOrs0X5a8fC6BBGPqeHyxSyu5fPTdgks=s64'}, 'isAuthenticatedUser': True, 'permissionId': '17816284780177274399', 'emailAddress': 'alasen24@gmail.com'}], 'lastModifyingUserName': 'Alicja Senczyna', 'lastModifyingUser': {'kind': 'drive#user', 'displayName': 'Alicja Senczyna', 'picture': {'url': 'https://lh3.googleusercontent.com/a-/AOh14GhAh4EHg2nPOrs0X5a8fC6BBGPqeHyxSyu5fPTdgks=s64'}, 'isAuthenticatedUser': True, 'permissionId': '17816284780177274399', 'emailAddress': 'alasen24@gmail.com'}, 'capabilities': {'canCopy': True, 'canEdit': True}, 'editable': True, 'copyable': True, 'writersCanShare': True, 'shared': False, 'explicitlyTrashed': False, 'appDataContents': False, 'spaces': ['drive']})\n"
     ]
    },
    {
     "data": {
      "text/plain": [
       "GoogleDriveFile({'mimeType': 'application/vnd.google-apps.spreadsheet', 'parents': [{'kind': 'drive#parentReference', 'id': '18xiAQC_UQxb0bhi3NNPDevBKlUztV5fl', 'selfLink': 'https://www.googleapis.com/drive/v2/files/1FVdO9yRzxG4lUtj0KjeQ2XgjApXz7DZ-sSQm8Bd_oU0/parents/18xiAQC_UQxb0bhi3NNPDevBKlUztV5fl', 'parentLink': 'https://www.googleapis.com/drive/v2/files/18xiAQC_UQxb0bhi3NNPDevBKlUztV5fl', 'isRoot': False}], 'title': 'pivot_table', 'kind': 'drive#file', 'id': '1FVdO9yRzxG4lUtj0KjeQ2XgjApXz7DZ-sSQm8Bd_oU0', 'etag': '\"MTY1MTQzMDQxNzYzMQ\"', 'selfLink': 'https://www.googleapis.com/drive/v2/files/1FVdO9yRzxG4lUtj0KjeQ2XgjApXz7DZ-sSQm8Bd_oU0', 'webContentLink': 'https://drive.google.com/uc?id=1FVdO9yRzxG4lUtj0KjeQ2XgjApXz7DZ-sSQm8Bd_oU0&export=download', 'alternateLink': 'https://docs.google.com/spreadsheets/d/1FVdO9yRzxG4lUtj0KjeQ2XgjApXz7DZ-sSQm8Bd_oU0/edit?usp=drivesdk', 'embedLink': 'https://docs.google.com/spreadsheets/d/1FVdO9yRzxG4lUtj0KjeQ2XgjApXz7DZ-sSQm8Bd_oU0/htmlembed?ouid=107768623538409361715', 'iconLink': 'https://drive-thirdparty.googleusercontent.com/16/type/application/vnd.google-apps.spreadsheet', 'labels': {'starred': False, 'hidden': False, 'trashed': False, 'restricted': False, 'viewed': True}, 'copyRequiresWriterPermission': False, 'createdDate': '2022-05-01T18:40:17.523Z', 'modifiedDate': '2022-05-01T18:40:17.631Z', 'modifiedByMeDate': '2022-05-01T18:40:17.631Z', 'lastViewedByMeDate': '2022-05-01T18:40:17.523Z', 'markedViewedByMeDate': '1970-01-01T00:00:00.000Z', 'version': '4', 'exportLinks': {'application/x-vnd.oasis.opendocument.spreadsheet': 'https://docs.google.com/spreadsheets/export?id=1FVdO9yRzxG4lUtj0KjeQ2XgjApXz7DZ-sSQm8Bd_oU0&exportFormat=ods', 'text/tab-separated-values': 'https://docs.google.com/spreadsheets/export?id=1FVdO9yRzxG4lUtj0KjeQ2XgjApXz7DZ-sSQm8Bd_oU0&exportFormat=tsv', 'application/pdf': 'https://docs.google.com/spreadsheets/export?id=1FVdO9yRzxG4lUtj0KjeQ2XgjApXz7DZ-sSQm8Bd_oU0&exportFormat=pdf', 'application/vnd.openxmlformats-officedocument.spreadsheetml.sheet': 'https://docs.google.com/spreadsheets/export?id=1FVdO9yRzxG4lUtj0KjeQ2XgjApXz7DZ-sSQm8Bd_oU0&exportFormat=xlsx', 'text/csv': 'https://docs.google.com/spreadsheets/export?id=1FVdO9yRzxG4lUtj0KjeQ2XgjApXz7DZ-sSQm8Bd_oU0&exportFormat=csv', 'application/zip': 'https://docs.google.com/spreadsheets/export?id=1FVdO9yRzxG4lUtj0KjeQ2XgjApXz7DZ-sSQm8Bd_oU0&exportFormat=zip', 'application/vnd.oasis.opendocument.spreadsheet': 'https://docs.google.com/spreadsheets/export?id=1FVdO9yRzxG4lUtj0KjeQ2XgjApXz7DZ-sSQm8Bd_oU0&exportFormat=ods'}, 'userPermission': {'kind': 'drive#permission', 'etag': '\"1B98iqQvdc4AG8SUir2yvVNWPH8\"', 'id': 'me', 'selfLink': 'https://www.googleapis.com/drive/v2/files/1FVdO9yRzxG4lUtj0KjeQ2XgjApXz7DZ-sSQm8Bd_oU0/permissions/me', 'role': 'owner', 'type': 'user', 'pendingOwner': False}, 'fileSize': '1', 'quotaBytesUsed': '1', 'ownerNames': ['Alicja Senczyna'], 'owners': [{'kind': 'drive#user', 'displayName': 'Alicja Senczyna', 'picture': {'url': 'https://lh3.googleusercontent.com/a-/AOh14GhAh4EHg2nPOrs0X5a8fC6BBGPqeHyxSyu5fPTdgks=s64'}, 'isAuthenticatedUser': True, 'permissionId': '17816284780177274399', 'emailAddress': 'alasen24@gmail.com'}], 'lastModifyingUserName': 'Alicja Senczyna', 'lastModifyingUser': {'kind': 'drive#user', 'displayName': 'Alicja Senczyna', 'picture': {'url': 'https://lh3.googleusercontent.com/a-/AOh14GhAh4EHg2nPOrs0X5a8fC6BBGPqeHyxSyu5fPTdgks=s64'}, 'isAuthenticatedUser': True, 'permissionId': '17816284780177274399', 'emailAddress': 'alasen24@gmail.com'}, 'capabilities': {'canCopy': True, 'canEdit': True}, 'editable': True, 'copyable': True, 'writersCanShare': True, 'shared': False, 'explicitlyTrashed': False, 'appDataContents': False, 'spaces': ['drive']})"
      ]
     },
     "execution_count": 52,
     "metadata": {},
     "output_type": "execute_result"
    }
   ],
   "source": [
    "csv_to_google_sheets('data.csv', 'data', '18xiAQC_UQxb0bhi3NNPDevBKlUztV5fl')\n",
    "csv_to_google_sheets('pivot_table.csv', 'pivot_table', '18xiAQC_UQxb0bhi3NNPDevBKlUztV5fl')"
   ]
  },
  {
   "cell_type": "code",
   "execution_count": null,
   "metadata": {},
   "outputs": [],
   "source": []
  }
 ],
 "metadata": {
  "interpreter": {
   "hash": "71714cd26d2e94dbd471fde720e72566855f7d911988f2f941b0c38f92f31a38"
  },
  "kernelspec": {
   "display_name": "Python 3.9.7 ('base')",
   "language": "python",
   "name": "python3"
  },
  "language_info": {
   "codemirror_mode": {
    "name": "ipython",
    "version": 3
   },
   "file_extension": ".py",
   "mimetype": "text/x-python",
   "name": "python",
   "nbconvert_exporter": "python",
   "pygments_lexer": "ipython3",
   "version": "3.9.7"
  },
  "orig_nbformat": 4
 },
 "nbformat": 4,
 "nbformat_minor": 2
}
