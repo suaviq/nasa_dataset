{
 "cells": [
  {
   "cell_type": "code",
   "execution_count": 1,
   "metadata": {},
   "outputs": [],
   "source": [
    "# 1.  Napisz program w Pythonie, który pobiera dane json i zwraca plik CSV z danymi.\n",
    "# 2.  Wgraj wygenerowany plik CSV do Google Sheets.\n",
    "# 3.  W nowym arkuszu stwórz tabelę przestawną, która przedstawia ile meteorów danej klasy spadło w danym roku."
   ]
  },
  {
   "cell_type": "code",
   "execution_count": 1,
   "metadata": {},
   "outputs": [
    {
     "name": "stdout",
     "output_type": "stream",
     "text": [
      "Your browser has been opened to visit:\n",
      "\n",
      "    https://accounts.google.com/o/oauth2/auth?client_id=505264712938-seano1obgad976pfvg351a5s4oc03647.apps.googleusercontent.com&redirect_uri=http%3A%2F%2Flocalhost%3A8080%2F&scope=https%3A%2F%2Fwww.googleapis.com%2Fauth%2Fdrive&access_type=offline&response_type=code\n",
      "\n",
      "Authentication successful.\n"
     ]
    }
   ],
   "source": [
    "import urllib.request\n",
    "import json, csv\n",
    "import pandas as pd\n",
    "import os\n",
    "from googleapiclient.http import MediaFileUpload\n",
    "from pydrive.auth import GoogleAuth\n",
    "from pydrive.drive import GoogleDrive\n",
    "import numpy as np\n",
    "\n",
    "\n",
    "gauth = GoogleAuth()\n",
    "gauth.LocalWebserverAuth() \n",
    "drive = GoogleDrive(gauth)\n",
    "\n"
   ]
  },
  {
   "cell_type": "code",
   "execution_count": 37,
   "metadata": {},
   "outputs": [],
   "source": [
    "def json_to_csv(link: str, name:str):\n",
    "    data = dict()\n",
    "    with urllib.request.urlopen(link) as url:\n",
    "        data = json.loads(url.read().decode())\n",
    "        #print(data)\n",
    "    with open(f'{name}.json', 'w', ) as f:\n",
    "        json.dump(data, f, ensure_ascii=False, indent=4)\n",
    "    new_data = list()\n",
    "    for d in data:\n",
    "        new_d = dict()\n",
    "        for key, value in d.items():\n",
    "            if not isinstance(value, dict):\n",
    "                new_d[key] = value\n",
    "            else:\n",
    "                for k, v in value.items():\n",
    "                    new_d[key + \"_\" + k] = v\n",
    "            new_data.append(new_d)\n",
    "    df = pd.read_json('data.json')\n",
    "    df = pd.DataFrame(new_data)\n",
    "    df.to_csv(rf'{name}.csv', index = None)\n",
    "    return df"
   ]
  },
  {
   "cell_type": "code",
   "execution_count": 39,
   "metadata": {},
   "outputs": [],
   "source": [
    "df = json_to_csv(\"https://data.nasa.gov/resource/gh4g-9sfh.json\", 'data')"
   ]
  },
  {
   "cell_type": "code",
   "execution_count": 48,
   "metadata": {},
   "outputs": [],
   "source": [
    "pivot_table = df.groupby([\"year\", \"recclass\"])[\"id\"].count().to_csv(\"pivot_table.csv\")"
   ]
  },
  {
   "cell_type": "code",
   "execution_count": 55,
   "metadata": {},
   "outputs": [],
   "source": [
    "def csv_to_google_sheets(file_path:str, file_name:str, google_folder:list = None):\n",
    "    if not os.path.exists(file_path):\n",
    "        print(f'{file_path} not found.')\n",
    "        return\n",
    "    try:\n",
    "        file = drive.CreateFile({\"mimeType\":\"text/csv\", \"parents\":[{\"kind\": \"drive#fileLink\", \"id\": google_folder}]})\n",
    "        file.SetContentFile(f'{file_name}.csv')\n",
    "        file.Upload({'convert': True})\n",
    "        print(file)\n",
    "        return file\n",
    "    except Exception as exp:\n",
    "        print(exp)\n",
    "        return    \n",
    "    "
   ]
  },
  {
   "cell_type": "code",
   "execution_count": 56,
   "metadata": {},
   "outputs": [
    {
     "name": "stdout",
     "output_type": "stream",
     "text": [
      "GoogleDriveFile({'mimeType': 'application/vnd.google-apps.spreadsheet', 'parents': [{'kind': 'drive#parentReference', 'id': '18xiAQC_UQxb0bhi3NNPDevBKlUztV5fl', 'selfLink': 'https://www.googleapis.com/drive/v2/files/1bGnsILBZWzWhBGx8PDCbUp05Lm8Cu1nRsZMQJyR47EI/parents/18xiAQC_UQxb0bhi3NNPDevBKlUztV5fl', 'parentLink': 'https://www.googleapis.com/drive/v2/files/18xiAQC_UQxb0bhi3NNPDevBKlUztV5fl', 'isRoot': False}], 'title': 'data', 'kind': 'drive#file', 'id': '1bGnsILBZWzWhBGx8PDCbUp05Lm8Cu1nRsZMQJyR47EI', 'etag': '\"MTY1MTQ4MDc1MzMyMw\"', 'selfLink': 'https://www.googleapis.com/drive/v2/files/1bGnsILBZWzWhBGx8PDCbUp05Lm8Cu1nRsZMQJyR47EI', 'webContentLink': 'https://drive.google.com/uc?id=1bGnsILBZWzWhBGx8PDCbUp05Lm8Cu1nRsZMQJyR47EI&export=download', 'alternateLink': 'https://docs.google.com/spreadsheets/d/1bGnsILBZWzWhBGx8PDCbUp05Lm8Cu1nRsZMQJyR47EI/edit?usp=drivesdk', 'embedLink': 'https://docs.google.com/spreadsheets/d/1bGnsILBZWzWhBGx8PDCbUp05Lm8Cu1nRsZMQJyR47EI/htmlembed?ouid=107768623538409361715', 'iconLink': 'https://drive-thirdparty.googleusercontent.com/16/type/application/vnd.google-apps.spreadsheet', 'labels': {'starred': False, 'hidden': False, 'trashed': False, 'restricted': False, 'viewed': True}, 'copyRequiresWriterPermission': False, 'createdDate': '2022-05-02T08:39:13.225Z', 'modifiedDate': '2022-05-02T08:39:13.323Z', 'modifiedByMeDate': '2022-05-02T08:39:13.323Z', 'lastViewedByMeDate': '2022-05-02T08:39:13.225Z', 'markedViewedByMeDate': '1970-01-01T00:00:00.000Z', 'version': '4', 'exportLinks': {'application/x-vnd.oasis.opendocument.spreadsheet': 'https://docs.google.com/spreadsheets/export?id=1bGnsILBZWzWhBGx8PDCbUp05Lm8Cu1nRsZMQJyR47EI&exportFormat=ods', 'text/tab-separated-values': 'https://docs.google.com/spreadsheets/export?id=1bGnsILBZWzWhBGx8PDCbUp05Lm8Cu1nRsZMQJyR47EI&exportFormat=tsv', 'application/pdf': 'https://docs.google.com/spreadsheets/export?id=1bGnsILBZWzWhBGx8PDCbUp05Lm8Cu1nRsZMQJyR47EI&exportFormat=pdf', 'application/vnd.openxmlformats-officedocument.spreadsheetml.sheet': 'https://docs.google.com/spreadsheets/export?id=1bGnsILBZWzWhBGx8PDCbUp05Lm8Cu1nRsZMQJyR47EI&exportFormat=xlsx', 'text/csv': 'https://docs.google.com/spreadsheets/export?id=1bGnsILBZWzWhBGx8PDCbUp05Lm8Cu1nRsZMQJyR47EI&exportFormat=csv', 'application/zip': 'https://docs.google.com/spreadsheets/export?id=1bGnsILBZWzWhBGx8PDCbUp05Lm8Cu1nRsZMQJyR47EI&exportFormat=zip', 'application/vnd.oasis.opendocument.spreadsheet': 'https://docs.google.com/spreadsheets/export?id=1bGnsILBZWzWhBGx8PDCbUp05Lm8Cu1nRsZMQJyR47EI&exportFormat=ods'}, 'userPermission': {'kind': 'drive#permission', 'etag': '\"uVVqIqn9VxASHTwfOCBR-me6AfI\"', 'id': 'me', 'selfLink': 'https://www.googleapis.com/drive/v2/files/1bGnsILBZWzWhBGx8PDCbUp05Lm8Cu1nRsZMQJyR47EI/permissions/me', 'role': 'owner', 'type': 'user', 'pendingOwner': False}, 'fileSize': '1', 'quotaBytesUsed': '1', 'ownerNames': ['Alicja Senczyna'], 'owners': [{'kind': 'drive#user', 'displayName': 'Alicja Senczyna', 'picture': {'url': 'https://lh3.googleusercontent.com/a-/AOh14GhAh4EHg2nPOrs0X5a8fC6BBGPqeHyxSyu5fPTdgks=s64'}, 'isAuthenticatedUser': True, 'permissionId': '17816284780177274399', 'emailAddress': 'alasen24@gmail.com'}], 'lastModifyingUserName': 'Alicja Senczyna', 'lastModifyingUser': {'kind': 'drive#user', 'displayName': 'Alicja Senczyna', 'picture': {'url': 'https://lh3.googleusercontent.com/a-/AOh14GhAh4EHg2nPOrs0X5a8fC6BBGPqeHyxSyu5fPTdgks=s64'}, 'isAuthenticatedUser': True, 'permissionId': '17816284780177274399', 'emailAddress': 'alasen24@gmail.com'}, 'capabilities': {'canCopy': True, 'canEdit': True}, 'editable': True, 'copyable': True, 'writersCanShare': True, 'shared': True, 'explicitlyTrashed': False, 'appDataContents': False, 'spaces': ['drive']})\n",
      "GoogleDriveFile({'mimeType': 'application/vnd.google-apps.spreadsheet', 'parents': [{'kind': 'drive#parentReference', 'id': '18xiAQC_UQxb0bhi3NNPDevBKlUztV5fl', 'selfLink': 'https://www.googleapis.com/drive/v2/files/1lLXxxbjjqWmPGUImkRUh4aU2q4KBUFCP6l_6_V2dzCs/parents/18xiAQC_UQxb0bhi3NNPDevBKlUztV5fl', 'parentLink': 'https://www.googleapis.com/drive/v2/files/18xiAQC_UQxb0bhi3NNPDevBKlUztV5fl', 'isRoot': False}], 'title': 'pivot_table', 'kind': 'drive#file', 'id': '1lLXxxbjjqWmPGUImkRUh4aU2q4KBUFCP6l_6_V2dzCs', 'etag': '\"MTY1MTQ4MDc1NzI3Mw\"', 'selfLink': 'https://www.googleapis.com/drive/v2/files/1lLXxxbjjqWmPGUImkRUh4aU2q4KBUFCP6l_6_V2dzCs', 'webContentLink': 'https://drive.google.com/uc?id=1lLXxxbjjqWmPGUImkRUh4aU2q4KBUFCP6l_6_V2dzCs&export=download', 'alternateLink': 'https://docs.google.com/spreadsheets/d/1lLXxxbjjqWmPGUImkRUh4aU2q4KBUFCP6l_6_V2dzCs/edit?usp=drivesdk', 'embedLink': 'https://docs.google.com/spreadsheets/d/1lLXxxbjjqWmPGUImkRUh4aU2q4KBUFCP6l_6_V2dzCs/htmlembed?ouid=107768623538409361715', 'iconLink': 'https://drive-thirdparty.googleusercontent.com/16/type/application/vnd.google-apps.spreadsheet', 'labels': {'starred': False, 'hidden': False, 'trashed': False, 'restricted': False, 'viewed': True}, 'copyRequiresWriterPermission': False, 'createdDate': '2022-05-02T08:39:17.189Z', 'modifiedDate': '2022-05-02T08:39:17.273Z', 'modifiedByMeDate': '2022-05-02T08:39:17.273Z', 'lastViewedByMeDate': '2022-05-02T08:39:17.189Z', 'markedViewedByMeDate': '1970-01-01T00:00:00.000Z', 'version': '4', 'exportLinks': {'application/x-vnd.oasis.opendocument.spreadsheet': 'https://docs.google.com/spreadsheets/export?id=1lLXxxbjjqWmPGUImkRUh4aU2q4KBUFCP6l_6_V2dzCs&exportFormat=ods', 'text/tab-separated-values': 'https://docs.google.com/spreadsheets/export?id=1lLXxxbjjqWmPGUImkRUh4aU2q4KBUFCP6l_6_V2dzCs&exportFormat=tsv', 'application/pdf': 'https://docs.google.com/spreadsheets/export?id=1lLXxxbjjqWmPGUImkRUh4aU2q4KBUFCP6l_6_V2dzCs&exportFormat=pdf', 'application/vnd.openxmlformats-officedocument.spreadsheetml.sheet': 'https://docs.google.com/spreadsheets/export?id=1lLXxxbjjqWmPGUImkRUh4aU2q4KBUFCP6l_6_V2dzCs&exportFormat=xlsx', 'text/csv': 'https://docs.google.com/spreadsheets/export?id=1lLXxxbjjqWmPGUImkRUh4aU2q4KBUFCP6l_6_V2dzCs&exportFormat=csv', 'application/zip': 'https://docs.google.com/spreadsheets/export?id=1lLXxxbjjqWmPGUImkRUh4aU2q4KBUFCP6l_6_V2dzCs&exportFormat=zip', 'application/vnd.oasis.opendocument.spreadsheet': 'https://docs.google.com/spreadsheets/export?id=1lLXxxbjjqWmPGUImkRUh4aU2q4KBUFCP6l_6_V2dzCs&exportFormat=ods'}, 'userPermission': {'kind': 'drive#permission', 'etag': '\"y3XyEMSyROQ8vIpP0mXLG8wAZcI\"', 'id': 'me', 'selfLink': 'https://www.googleapis.com/drive/v2/files/1lLXxxbjjqWmPGUImkRUh4aU2q4KBUFCP6l_6_V2dzCs/permissions/me', 'role': 'owner', 'type': 'user', 'pendingOwner': False}, 'fileSize': '1', 'quotaBytesUsed': '1', 'ownerNames': ['Alicja Senczyna'], 'owners': [{'kind': 'drive#user', 'displayName': 'Alicja Senczyna', 'picture': {'url': 'https://lh3.googleusercontent.com/a-/AOh14GhAh4EHg2nPOrs0X5a8fC6BBGPqeHyxSyu5fPTdgks=s64'}, 'isAuthenticatedUser': True, 'permissionId': '17816284780177274399', 'emailAddress': 'alasen24@gmail.com'}], 'lastModifyingUserName': 'Alicja Senczyna', 'lastModifyingUser': {'kind': 'drive#user', 'displayName': 'Alicja Senczyna', 'picture': {'url': 'https://lh3.googleusercontent.com/a-/AOh14GhAh4EHg2nPOrs0X5a8fC6BBGPqeHyxSyu5fPTdgks=s64'}, 'isAuthenticatedUser': True, 'permissionId': '17816284780177274399', 'emailAddress': 'alasen24@gmail.com'}, 'capabilities': {'canCopy': True, 'canEdit': True}, 'editable': True, 'copyable': True, 'writersCanShare': True, 'shared': True, 'explicitlyTrashed': False, 'appDataContents': False, 'spaces': ['drive']})\n"
     ]
    },
    {
     "data": {
      "text/plain": [
       "GoogleDriveFile({'mimeType': 'application/vnd.google-apps.spreadsheet', 'parents': [{'kind': 'drive#parentReference', 'id': '18xiAQC_UQxb0bhi3NNPDevBKlUztV5fl', 'selfLink': 'https://www.googleapis.com/drive/v2/files/1lLXxxbjjqWmPGUImkRUh4aU2q4KBUFCP6l_6_V2dzCs/parents/18xiAQC_UQxb0bhi3NNPDevBKlUztV5fl', 'parentLink': 'https://www.googleapis.com/drive/v2/files/18xiAQC_UQxb0bhi3NNPDevBKlUztV5fl', 'isRoot': False}], 'title': 'pivot_table', 'kind': 'drive#file', 'id': '1lLXxxbjjqWmPGUImkRUh4aU2q4KBUFCP6l_6_V2dzCs', 'etag': '\"MTY1MTQ4MDc1NzI3Mw\"', 'selfLink': 'https://www.googleapis.com/drive/v2/files/1lLXxxbjjqWmPGUImkRUh4aU2q4KBUFCP6l_6_V2dzCs', 'webContentLink': 'https://drive.google.com/uc?id=1lLXxxbjjqWmPGUImkRUh4aU2q4KBUFCP6l_6_V2dzCs&export=download', 'alternateLink': 'https://docs.google.com/spreadsheets/d/1lLXxxbjjqWmPGUImkRUh4aU2q4KBUFCP6l_6_V2dzCs/edit?usp=drivesdk', 'embedLink': 'https://docs.google.com/spreadsheets/d/1lLXxxbjjqWmPGUImkRUh4aU2q4KBUFCP6l_6_V2dzCs/htmlembed?ouid=107768623538409361715', 'iconLink': 'https://drive-thirdparty.googleusercontent.com/16/type/application/vnd.google-apps.spreadsheet', 'labels': {'starred': False, 'hidden': False, 'trashed': False, 'restricted': False, 'viewed': True}, 'copyRequiresWriterPermission': False, 'createdDate': '2022-05-02T08:39:17.189Z', 'modifiedDate': '2022-05-02T08:39:17.273Z', 'modifiedByMeDate': '2022-05-02T08:39:17.273Z', 'lastViewedByMeDate': '2022-05-02T08:39:17.189Z', 'markedViewedByMeDate': '1970-01-01T00:00:00.000Z', 'version': '4', 'exportLinks': {'application/x-vnd.oasis.opendocument.spreadsheet': 'https://docs.google.com/spreadsheets/export?id=1lLXxxbjjqWmPGUImkRUh4aU2q4KBUFCP6l_6_V2dzCs&exportFormat=ods', 'text/tab-separated-values': 'https://docs.google.com/spreadsheets/export?id=1lLXxxbjjqWmPGUImkRUh4aU2q4KBUFCP6l_6_V2dzCs&exportFormat=tsv', 'application/pdf': 'https://docs.google.com/spreadsheets/export?id=1lLXxxbjjqWmPGUImkRUh4aU2q4KBUFCP6l_6_V2dzCs&exportFormat=pdf', 'application/vnd.openxmlformats-officedocument.spreadsheetml.sheet': 'https://docs.google.com/spreadsheets/export?id=1lLXxxbjjqWmPGUImkRUh4aU2q4KBUFCP6l_6_V2dzCs&exportFormat=xlsx', 'text/csv': 'https://docs.google.com/spreadsheets/export?id=1lLXxxbjjqWmPGUImkRUh4aU2q4KBUFCP6l_6_V2dzCs&exportFormat=csv', 'application/zip': 'https://docs.google.com/spreadsheets/export?id=1lLXxxbjjqWmPGUImkRUh4aU2q4KBUFCP6l_6_V2dzCs&exportFormat=zip', 'application/vnd.oasis.opendocument.spreadsheet': 'https://docs.google.com/spreadsheets/export?id=1lLXxxbjjqWmPGUImkRUh4aU2q4KBUFCP6l_6_V2dzCs&exportFormat=ods'}, 'userPermission': {'kind': 'drive#permission', 'etag': '\"y3XyEMSyROQ8vIpP0mXLG8wAZcI\"', 'id': 'me', 'selfLink': 'https://www.googleapis.com/drive/v2/files/1lLXxxbjjqWmPGUImkRUh4aU2q4KBUFCP6l_6_V2dzCs/permissions/me', 'role': 'owner', 'type': 'user', 'pendingOwner': False}, 'fileSize': '1', 'quotaBytesUsed': '1', 'ownerNames': ['Alicja Senczyna'], 'owners': [{'kind': 'drive#user', 'displayName': 'Alicja Senczyna', 'picture': {'url': 'https://lh3.googleusercontent.com/a-/AOh14GhAh4EHg2nPOrs0X5a8fC6BBGPqeHyxSyu5fPTdgks=s64'}, 'isAuthenticatedUser': True, 'permissionId': '17816284780177274399', 'emailAddress': 'alasen24@gmail.com'}], 'lastModifyingUserName': 'Alicja Senczyna', 'lastModifyingUser': {'kind': 'drive#user', 'displayName': 'Alicja Senczyna', 'picture': {'url': 'https://lh3.googleusercontent.com/a-/AOh14GhAh4EHg2nPOrs0X5a8fC6BBGPqeHyxSyu5fPTdgks=s64'}, 'isAuthenticatedUser': True, 'permissionId': '17816284780177274399', 'emailAddress': 'alasen24@gmail.com'}, 'capabilities': {'canCopy': True, 'canEdit': True}, 'editable': True, 'copyable': True, 'writersCanShare': True, 'shared': True, 'explicitlyTrashed': False, 'appDataContents': False, 'spaces': ['drive']})"
      ]
     },
     "execution_count": 56,
     "metadata": {},
     "output_type": "execute_result"
    }
   ],
   "source": [
    "csv_to_google_sheets('data.csv', 'data', '18xiAQC_UQxb0bhi3NNPDevBKlUztV5fl')\n",
    "csv_to_google_sheets('pivot_table.csv', 'pivot_table', '18xiAQC_UQxb0bhi3NNPDevBKlUztV5fl')"
   ]
  },
  {
   "cell_type": "markdown",
   "metadata": {},
   "source": [
    "https://drive.google.com/drive/folders/18xiAQC_UQxb0bhi3NNPDevBKlUztV5fl?usp=sharing"
   ]
  },
  {
   "cell_type": "markdown",
   "metadata": {},
   "source": [
    "Additional for data visualization "
   ]
  },
  {
   "cell_type": "code",
   "execution_count": 2,
   "metadata": {},
   "outputs": [
    {
     "name": "stdout",
     "output_type": "stream",
     "text": [
      "Index(['name', 'id', 'nametype', 'recclass', 'mass', 'fall', 'year', 'reclat',\n",
      "       'reclong', 'geolocation_latitude', 'geolocation_longitude',\n",
      "       ':@computed_region_cbhk_fwbd', ':@computed_region_nnqa_25f4'],\n",
      "      dtype='object')\n"
     ]
    },
    {
     "data": {
      "text/plain": [
       "(10202, 13)"
      ]
     },
     "execution_count": 2,
     "metadata": {},
     "output_type": "execute_result"
    }
   ],
   "source": [
    "nasa_data = pd.read_csv('data.csv')\n",
    "print(nasa_data.columns)\n",
    "nasa_data.head()\n",
    "np.shape(nasa_data)\n"
   ]
  },
  {
   "cell_type": "code",
   "execution_count": 4,
   "metadata": {},
   "outputs": [
    {
     "name": "stdout",
     "output_type": "stream",
     "text": [
      "     name  id nametype recclass  mass  fall                     year  reclat  \\\n",
      "0  Aachen   1    Valid       L5  21.0  Fell  1880-01-01T00:00:00.000  50.775   \n",
      "1  Aachen   1    Valid       L5  21.0  Fell  1880-01-01T00:00:00.000  50.775   \n",
      "2  Aachen   1    Valid       L5  21.0  Fell  1880-01-01T00:00:00.000  50.775   \n",
      "3  Aachen   1    Valid       L5  21.0  Fell  1880-01-01T00:00:00.000  50.775   \n",
      "4  Aachen   1    Valid       L5  21.0  Fell  1880-01-01T00:00:00.000  50.775   \n",
      "\n",
      "   reclong  geolocation_latitude  geolocation_longitude  \\\n",
      "0  6.08333                50.775                6.08333   \n",
      "1  6.08333                50.775                6.08333   \n",
      "2  6.08333                50.775                6.08333   \n",
      "3  6.08333                50.775                6.08333   \n",
      "4  6.08333                50.775                6.08333   \n",
      "\n",
      "   :@computed_region_cbhk_fwbd  :@computed_region_nnqa_25f4  \n",
      "0                          NaN                          NaN  \n",
      "1                          NaN                          NaN  \n",
      "2                          NaN                          NaN  \n",
      "3                          NaN                          NaN  \n",
      "4                          NaN                          NaN  \n"
     ]
    }
   ],
   "source": [
    "print(nasa_data.head())"
   ]
  },
  {
   "cell_type": "code",
   "execution_count": 7,
   "metadata": {},
   "outputs": [],
   "source": [
    "# we can drop those two attributtes since they are filled with NaN values   \n",
    "nasa_data = nasa_data.drop([':@computed_region_cbhk_fwbd', ':@computed_region_nnqa_25f4'], axis =1)"
   ]
  },
  {
   "cell_type": "code",
   "execution_count": 8,
   "metadata": {},
   "outputs": [
    {
     "data": {
      "text/html": [
       "<div>\n",
       "<style scoped>\n",
       "    .dataframe tbody tr th:only-of-type {\n",
       "        vertical-align: middle;\n",
       "    }\n",
       "\n",
       "    .dataframe tbody tr th {\n",
       "        vertical-align: top;\n",
       "    }\n",
       "\n",
       "    .dataframe thead th {\n",
       "        text-align: right;\n",
       "    }\n",
       "</style>\n",
       "<table border=\"1\" class=\"dataframe\">\n",
       "  <thead>\n",
       "    <tr style=\"text-align: right;\">\n",
       "      <th></th>\n",
       "      <th>name</th>\n",
       "      <th>id</th>\n",
       "      <th>nametype</th>\n",
       "      <th>recclass</th>\n",
       "      <th>mass</th>\n",
       "      <th>fall</th>\n",
       "      <th>year</th>\n",
       "      <th>reclat</th>\n",
       "      <th>reclong</th>\n",
       "      <th>geolocation_latitude</th>\n",
       "      <th>geolocation_longitude</th>\n",
       "    </tr>\n",
       "  </thead>\n",
       "  <tbody>\n",
       "    <tr>\n",
       "      <th>0</th>\n",
       "      <td>Aachen</td>\n",
       "      <td>1</td>\n",
       "      <td>Valid</td>\n",
       "      <td>L5</td>\n",
       "      <td>21.0</td>\n",
       "      <td>Fell</td>\n",
       "      <td>1880-01-01T00:00:00.000</td>\n",
       "      <td>50.775</td>\n",
       "      <td>6.08333</td>\n",
       "      <td>50.775</td>\n",
       "      <td>6.08333</td>\n",
       "    </tr>\n",
       "    <tr>\n",
       "      <th>1</th>\n",
       "      <td>Aachen</td>\n",
       "      <td>1</td>\n",
       "      <td>Valid</td>\n",
       "      <td>L5</td>\n",
       "      <td>21.0</td>\n",
       "      <td>Fell</td>\n",
       "      <td>1880-01-01T00:00:00.000</td>\n",
       "      <td>50.775</td>\n",
       "      <td>6.08333</td>\n",
       "      <td>50.775</td>\n",
       "      <td>6.08333</td>\n",
       "    </tr>\n",
       "    <tr>\n",
       "      <th>2</th>\n",
       "      <td>Aachen</td>\n",
       "      <td>1</td>\n",
       "      <td>Valid</td>\n",
       "      <td>L5</td>\n",
       "      <td>21.0</td>\n",
       "      <td>Fell</td>\n",
       "      <td>1880-01-01T00:00:00.000</td>\n",
       "      <td>50.775</td>\n",
       "      <td>6.08333</td>\n",
       "      <td>50.775</td>\n",
       "      <td>6.08333</td>\n",
       "    </tr>\n",
       "    <tr>\n",
       "      <th>3</th>\n",
       "      <td>Aachen</td>\n",
       "      <td>1</td>\n",
       "      <td>Valid</td>\n",
       "      <td>L5</td>\n",
       "      <td>21.0</td>\n",
       "      <td>Fell</td>\n",
       "      <td>1880-01-01T00:00:00.000</td>\n",
       "      <td>50.775</td>\n",
       "      <td>6.08333</td>\n",
       "      <td>50.775</td>\n",
       "      <td>6.08333</td>\n",
       "    </tr>\n",
       "    <tr>\n",
       "      <th>4</th>\n",
       "      <td>Aachen</td>\n",
       "      <td>1</td>\n",
       "      <td>Valid</td>\n",
       "      <td>L5</td>\n",
       "      <td>21.0</td>\n",
       "      <td>Fell</td>\n",
       "      <td>1880-01-01T00:00:00.000</td>\n",
       "      <td>50.775</td>\n",
       "      <td>6.08333</td>\n",
       "      <td>50.775</td>\n",
       "      <td>6.08333</td>\n",
       "    </tr>\n",
       "  </tbody>\n",
       "</table>\n",
       "</div>"
      ],
      "text/plain": [
       "     name  id nametype recclass  mass  fall                     year  reclat  \\\n",
       "0  Aachen   1    Valid       L5  21.0  Fell  1880-01-01T00:00:00.000  50.775   \n",
       "1  Aachen   1    Valid       L5  21.0  Fell  1880-01-01T00:00:00.000  50.775   \n",
       "2  Aachen   1    Valid       L5  21.0  Fell  1880-01-01T00:00:00.000  50.775   \n",
       "3  Aachen   1    Valid       L5  21.0  Fell  1880-01-01T00:00:00.000  50.775   \n",
       "4  Aachen   1    Valid       L5  21.0  Fell  1880-01-01T00:00:00.000  50.775   \n",
       "\n",
       "   reclong  geolocation_latitude  geolocation_longitude  \n",
       "0  6.08333                50.775                6.08333  \n",
       "1  6.08333                50.775                6.08333  \n",
       "2  6.08333                50.775                6.08333  \n",
       "3  6.08333                50.775                6.08333  \n",
       "4  6.08333                50.775                6.08333  "
      ]
     },
     "execution_count": 8,
     "metadata": {},
     "output_type": "execute_result"
    }
   ],
   "source": [
    "nasa_data.head()"
   ]
  },
  {
   "cell_type": "code",
   "execution_count": 11,
   "metadata": {},
   "outputs": [
    {
     "name": "stdout",
     "output_type": "stream",
     "text": [
      "name                       0\n",
      "id                         0\n",
      "nametype                   0\n",
      "recclass                   0\n",
      "mass                     254\n",
      "fall                       0\n",
      "year                       9\n",
      "reclat                    84\n",
      "reclong                   84\n",
      "geolocation_latitude      84\n",
      "geolocation_longitude     84\n",
      "dtype: int64\n"
     ]
    }
   ],
   "source": [
    "#there are not a lof NaN values so we can delete rows with NaN values\n",
    "print(nasa_data.isnull().sum())"
   ]
  },
  {
   "cell_type": "code",
   "execution_count": 51,
   "metadata": {},
   "outputs": [
    {
     "name": "stderr",
     "output_type": "stream",
     "text": [
      "C:\\Users\\alase\\AppData\\Local\\Temp/ipykernel_8164/4169302706.py:2: SettingWithCopyWarning: \n",
      "A value is trying to be set on a copy of a slice from a DataFrame.\n",
      "Try using .loc[row_indexer,col_indexer] = value instead\n",
      "\n",
      "See the caveats in the documentation: https://pandas.pydata.org/pandas-docs/stable/user_guide/indexing.html#returning-a-view-versus-a-copy\n",
      "  new_nasa_data['Lat, Long'] = new_nasa_data.geolocation_latitude.map(str) +', '+  new_nasa_data.geolocation_longitude.map(str)\n"
     ]
    }
   ],
   "source": [
    "new_nasa_data = nasa_data.dropna()\n",
    "new_nasa_data['Lat, Long'] = new_nasa_data.geolocation_latitude.map(str) +', '+  new_nasa_data.geolocation_longitude.map(str)\n",
    "new_nasa_data.to_csv(r'nasa_data.csv', index = None)"
   ]
  },
  {
   "cell_type": "code",
   "execution_count": 52,
   "metadata": {},
   "outputs": [
    {
     "data": {
      "text/html": [
       "<div>\n",
       "<style scoped>\n",
       "    .dataframe tbody tr th:only-of-type {\n",
       "        vertical-align: middle;\n",
       "    }\n",
       "\n",
       "    .dataframe tbody tr th {\n",
       "        vertical-align: top;\n",
       "    }\n",
       "\n",
       "    .dataframe thead th {\n",
       "        text-align: right;\n",
       "    }\n",
       "</style>\n",
       "<table border=\"1\" class=\"dataframe\">\n",
       "  <thead>\n",
       "    <tr style=\"text-align: right;\">\n",
       "      <th></th>\n",
       "      <th>name</th>\n",
       "      <th>id</th>\n",
       "      <th>nametype</th>\n",
       "      <th>recclass</th>\n",
       "      <th>mass</th>\n",
       "      <th>fall</th>\n",
       "      <th>year</th>\n",
       "      <th>reclat</th>\n",
       "      <th>reclong</th>\n",
       "      <th>geolocation_latitude</th>\n",
       "      <th>geolocation_longitude</th>\n",
       "      <th>Lat, Long</th>\n",
       "    </tr>\n",
       "  </thead>\n",
       "  <tbody>\n",
       "    <tr>\n",
       "      <th>0</th>\n",
       "      <td>Aachen</td>\n",
       "      <td>1</td>\n",
       "      <td>Valid</td>\n",
       "      <td>L5</td>\n",
       "      <td>21.0</td>\n",
       "      <td>Fell</td>\n",
       "      <td>1880-01-01T00:00:00.000</td>\n",
       "      <td>50.775</td>\n",
       "      <td>6.08333</td>\n",
       "      <td>50.775</td>\n",
       "      <td>6.08333</td>\n",
       "      <td>50.775, 6.08333</td>\n",
       "    </tr>\n",
       "    <tr>\n",
       "      <th>1</th>\n",
       "      <td>Aachen</td>\n",
       "      <td>1</td>\n",
       "      <td>Valid</td>\n",
       "      <td>L5</td>\n",
       "      <td>21.0</td>\n",
       "      <td>Fell</td>\n",
       "      <td>1880-01-01T00:00:00.000</td>\n",
       "      <td>50.775</td>\n",
       "      <td>6.08333</td>\n",
       "      <td>50.775</td>\n",
       "      <td>6.08333</td>\n",
       "      <td>50.775, 6.08333</td>\n",
       "    </tr>\n",
       "    <tr>\n",
       "      <th>2</th>\n",
       "      <td>Aachen</td>\n",
       "      <td>1</td>\n",
       "      <td>Valid</td>\n",
       "      <td>L5</td>\n",
       "      <td>21.0</td>\n",
       "      <td>Fell</td>\n",
       "      <td>1880-01-01T00:00:00.000</td>\n",
       "      <td>50.775</td>\n",
       "      <td>6.08333</td>\n",
       "      <td>50.775</td>\n",
       "      <td>6.08333</td>\n",
       "      <td>50.775, 6.08333</td>\n",
       "    </tr>\n",
       "    <tr>\n",
       "      <th>3</th>\n",
       "      <td>Aachen</td>\n",
       "      <td>1</td>\n",
       "      <td>Valid</td>\n",
       "      <td>L5</td>\n",
       "      <td>21.0</td>\n",
       "      <td>Fell</td>\n",
       "      <td>1880-01-01T00:00:00.000</td>\n",
       "      <td>50.775</td>\n",
       "      <td>6.08333</td>\n",
       "      <td>50.775</td>\n",
       "      <td>6.08333</td>\n",
       "      <td>50.775, 6.08333</td>\n",
       "    </tr>\n",
       "    <tr>\n",
       "      <th>4</th>\n",
       "      <td>Aachen</td>\n",
       "      <td>1</td>\n",
       "      <td>Valid</td>\n",
       "      <td>L5</td>\n",
       "      <td>21.0</td>\n",
       "      <td>Fell</td>\n",
       "      <td>1880-01-01T00:00:00.000</td>\n",
       "      <td>50.775</td>\n",
       "      <td>6.08333</td>\n",
       "      <td>50.775</td>\n",
       "      <td>6.08333</td>\n",
       "      <td>50.775, 6.08333</td>\n",
       "    </tr>\n",
       "  </tbody>\n",
       "</table>\n",
       "</div>"
      ],
      "text/plain": [
       "     name  id nametype recclass  mass  fall                     year  reclat  \\\n",
       "0  Aachen   1    Valid       L5  21.0  Fell  1880-01-01T00:00:00.000  50.775   \n",
       "1  Aachen   1    Valid       L5  21.0  Fell  1880-01-01T00:00:00.000  50.775   \n",
       "2  Aachen   1    Valid       L5  21.0  Fell  1880-01-01T00:00:00.000  50.775   \n",
       "3  Aachen   1    Valid       L5  21.0  Fell  1880-01-01T00:00:00.000  50.775   \n",
       "4  Aachen   1    Valid       L5  21.0  Fell  1880-01-01T00:00:00.000  50.775   \n",
       "\n",
       "   reclong  geolocation_latitude  geolocation_longitude        Lat, Long  \n",
       "0  6.08333                50.775                6.08333  50.775, 6.08333  \n",
       "1  6.08333                50.775                6.08333  50.775, 6.08333  \n",
       "2  6.08333                50.775                6.08333  50.775, 6.08333  \n",
       "3  6.08333                50.775                6.08333  50.775, 6.08333  \n",
       "4  6.08333                50.775                6.08333  50.775, 6.08333  "
      ]
     },
     "execution_count": 52,
     "metadata": {},
     "output_type": "execute_result"
    }
   ],
   "source": [
    "new_nasa_data.head()"
   ]
  },
  {
   "cell_type": "code",
   "execution_count": 57,
   "metadata": {},
   "outputs": [
    {
     "name": "stdout",
     "output_type": "stream",
     "text": [
      "GoogleDriveFile({'mimeType': 'application/vnd.google-apps.spreadsheet', 'parents': [{'kind': 'drive#parentReference', 'id': '18xiAQC_UQxb0bhi3NNPDevBKlUztV5fl', 'selfLink': 'https://www.googleapis.com/drive/v2/files/11KRjAxA9Q5_K5z5cRQeQFITJIgWnjIo3Qpiu4M4VDbg/parents/18xiAQC_UQxb0bhi3NNPDevBKlUztV5fl', 'parentLink': 'https://www.googleapis.com/drive/v2/files/18xiAQC_UQxb0bhi3NNPDevBKlUztV5fl', 'isRoot': False}], 'title': 'nasa_data', 'kind': 'drive#file', 'id': '11KRjAxA9Q5_K5z5cRQeQFITJIgWnjIo3Qpiu4M4VDbg', 'etag': '\"MTY1MTQ4MDc2NzI4NQ\"', 'selfLink': 'https://www.googleapis.com/drive/v2/files/11KRjAxA9Q5_K5z5cRQeQFITJIgWnjIo3Qpiu4M4VDbg', 'webContentLink': 'https://drive.google.com/uc?id=11KRjAxA9Q5_K5z5cRQeQFITJIgWnjIo3Qpiu4M4VDbg&export=download', 'alternateLink': 'https://docs.google.com/spreadsheets/d/11KRjAxA9Q5_K5z5cRQeQFITJIgWnjIo3Qpiu4M4VDbg/edit?usp=drivesdk', 'embedLink': 'https://docs.google.com/spreadsheets/d/11KRjAxA9Q5_K5z5cRQeQFITJIgWnjIo3Qpiu4M4VDbg/htmlembed?ouid=107768623538409361715', 'iconLink': 'https://drive-thirdparty.googleusercontent.com/16/type/application/vnd.google-apps.spreadsheet', 'labels': {'starred': False, 'hidden': False, 'trashed': False, 'restricted': False, 'viewed': True}, 'copyRequiresWriterPermission': False, 'createdDate': '2022-05-02T08:39:27.185Z', 'modifiedDate': '2022-05-02T08:39:27.285Z', 'modifiedByMeDate': '2022-05-02T08:39:27.285Z', 'lastViewedByMeDate': '2022-05-02T08:39:27.185Z', 'markedViewedByMeDate': '1970-01-01T00:00:00.000Z', 'version': '4', 'exportLinks': {'application/x-vnd.oasis.opendocument.spreadsheet': 'https://docs.google.com/spreadsheets/export?id=11KRjAxA9Q5_K5z5cRQeQFITJIgWnjIo3Qpiu4M4VDbg&exportFormat=ods', 'text/tab-separated-values': 'https://docs.google.com/spreadsheets/export?id=11KRjAxA9Q5_K5z5cRQeQFITJIgWnjIo3Qpiu4M4VDbg&exportFormat=tsv', 'application/pdf': 'https://docs.google.com/spreadsheets/export?id=11KRjAxA9Q5_K5z5cRQeQFITJIgWnjIo3Qpiu4M4VDbg&exportFormat=pdf', 'application/vnd.openxmlformats-officedocument.spreadsheetml.sheet': 'https://docs.google.com/spreadsheets/export?id=11KRjAxA9Q5_K5z5cRQeQFITJIgWnjIo3Qpiu4M4VDbg&exportFormat=xlsx', 'text/csv': 'https://docs.google.com/spreadsheets/export?id=11KRjAxA9Q5_K5z5cRQeQFITJIgWnjIo3Qpiu4M4VDbg&exportFormat=csv', 'application/zip': 'https://docs.google.com/spreadsheets/export?id=11KRjAxA9Q5_K5z5cRQeQFITJIgWnjIo3Qpiu4M4VDbg&exportFormat=zip', 'application/vnd.oasis.opendocument.spreadsheet': 'https://docs.google.com/spreadsheets/export?id=11KRjAxA9Q5_K5z5cRQeQFITJIgWnjIo3Qpiu4M4VDbg&exportFormat=ods'}, 'userPermission': {'kind': 'drive#permission', 'etag': '\"pvPiLGOGwa1NS_FjKesmDYDd2UA\"', 'id': 'me', 'selfLink': 'https://www.googleapis.com/drive/v2/files/11KRjAxA9Q5_K5z5cRQeQFITJIgWnjIo3Qpiu4M4VDbg/permissions/me', 'role': 'owner', 'type': 'user', 'pendingOwner': False}, 'fileSize': '1', 'quotaBytesUsed': '1', 'ownerNames': ['Alicja Senczyna'], 'owners': [{'kind': 'drive#user', 'displayName': 'Alicja Senczyna', 'picture': {'url': 'https://lh3.googleusercontent.com/a-/AOh14GhAh4EHg2nPOrs0X5a8fC6BBGPqeHyxSyu5fPTdgks=s64'}, 'isAuthenticatedUser': True, 'permissionId': '17816284780177274399', 'emailAddress': 'alasen24@gmail.com'}], 'lastModifyingUserName': 'Alicja Senczyna', 'lastModifyingUser': {'kind': 'drive#user', 'displayName': 'Alicja Senczyna', 'picture': {'url': 'https://lh3.googleusercontent.com/a-/AOh14GhAh4EHg2nPOrs0X5a8fC6BBGPqeHyxSyu5fPTdgks=s64'}, 'isAuthenticatedUser': True, 'permissionId': '17816284780177274399', 'emailAddress': 'alasen24@gmail.com'}, 'capabilities': {'canCopy': True, 'canEdit': True}, 'editable': True, 'copyable': True, 'writersCanShare': True, 'shared': True, 'explicitlyTrashed': False, 'appDataContents': False, 'spaces': ['drive']})\n"
     ]
    },
    {
     "data": {
      "text/plain": [
       "GoogleDriveFile({'mimeType': 'application/vnd.google-apps.spreadsheet', 'parents': [{'kind': 'drive#parentReference', 'id': '18xiAQC_UQxb0bhi3NNPDevBKlUztV5fl', 'selfLink': 'https://www.googleapis.com/drive/v2/files/11KRjAxA9Q5_K5z5cRQeQFITJIgWnjIo3Qpiu4M4VDbg/parents/18xiAQC_UQxb0bhi3NNPDevBKlUztV5fl', 'parentLink': 'https://www.googleapis.com/drive/v2/files/18xiAQC_UQxb0bhi3NNPDevBKlUztV5fl', 'isRoot': False}], 'title': 'nasa_data', 'kind': 'drive#file', 'id': '11KRjAxA9Q5_K5z5cRQeQFITJIgWnjIo3Qpiu4M4VDbg', 'etag': '\"MTY1MTQ4MDc2NzI4NQ\"', 'selfLink': 'https://www.googleapis.com/drive/v2/files/11KRjAxA9Q5_K5z5cRQeQFITJIgWnjIo3Qpiu4M4VDbg', 'webContentLink': 'https://drive.google.com/uc?id=11KRjAxA9Q5_K5z5cRQeQFITJIgWnjIo3Qpiu4M4VDbg&export=download', 'alternateLink': 'https://docs.google.com/spreadsheets/d/11KRjAxA9Q5_K5z5cRQeQFITJIgWnjIo3Qpiu4M4VDbg/edit?usp=drivesdk', 'embedLink': 'https://docs.google.com/spreadsheets/d/11KRjAxA9Q5_K5z5cRQeQFITJIgWnjIo3Qpiu4M4VDbg/htmlembed?ouid=107768623538409361715', 'iconLink': 'https://drive-thirdparty.googleusercontent.com/16/type/application/vnd.google-apps.spreadsheet', 'labels': {'starred': False, 'hidden': False, 'trashed': False, 'restricted': False, 'viewed': True}, 'copyRequiresWriterPermission': False, 'createdDate': '2022-05-02T08:39:27.185Z', 'modifiedDate': '2022-05-02T08:39:27.285Z', 'modifiedByMeDate': '2022-05-02T08:39:27.285Z', 'lastViewedByMeDate': '2022-05-02T08:39:27.185Z', 'markedViewedByMeDate': '1970-01-01T00:00:00.000Z', 'version': '4', 'exportLinks': {'application/x-vnd.oasis.opendocument.spreadsheet': 'https://docs.google.com/spreadsheets/export?id=11KRjAxA9Q5_K5z5cRQeQFITJIgWnjIo3Qpiu4M4VDbg&exportFormat=ods', 'text/tab-separated-values': 'https://docs.google.com/spreadsheets/export?id=11KRjAxA9Q5_K5z5cRQeQFITJIgWnjIo3Qpiu4M4VDbg&exportFormat=tsv', 'application/pdf': 'https://docs.google.com/spreadsheets/export?id=11KRjAxA9Q5_K5z5cRQeQFITJIgWnjIo3Qpiu4M4VDbg&exportFormat=pdf', 'application/vnd.openxmlformats-officedocument.spreadsheetml.sheet': 'https://docs.google.com/spreadsheets/export?id=11KRjAxA9Q5_K5z5cRQeQFITJIgWnjIo3Qpiu4M4VDbg&exportFormat=xlsx', 'text/csv': 'https://docs.google.com/spreadsheets/export?id=11KRjAxA9Q5_K5z5cRQeQFITJIgWnjIo3Qpiu4M4VDbg&exportFormat=csv', 'application/zip': 'https://docs.google.com/spreadsheets/export?id=11KRjAxA9Q5_K5z5cRQeQFITJIgWnjIo3Qpiu4M4VDbg&exportFormat=zip', 'application/vnd.oasis.opendocument.spreadsheet': 'https://docs.google.com/spreadsheets/export?id=11KRjAxA9Q5_K5z5cRQeQFITJIgWnjIo3Qpiu4M4VDbg&exportFormat=ods'}, 'userPermission': {'kind': 'drive#permission', 'etag': '\"pvPiLGOGwa1NS_FjKesmDYDd2UA\"', 'id': 'me', 'selfLink': 'https://www.googleapis.com/drive/v2/files/11KRjAxA9Q5_K5z5cRQeQFITJIgWnjIo3Qpiu4M4VDbg/permissions/me', 'role': 'owner', 'type': 'user', 'pendingOwner': False}, 'fileSize': '1', 'quotaBytesUsed': '1', 'ownerNames': ['Alicja Senczyna'], 'owners': [{'kind': 'drive#user', 'displayName': 'Alicja Senczyna', 'picture': {'url': 'https://lh3.googleusercontent.com/a-/AOh14GhAh4EHg2nPOrs0X5a8fC6BBGPqeHyxSyu5fPTdgks=s64'}, 'isAuthenticatedUser': True, 'permissionId': '17816284780177274399', 'emailAddress': 'alasen24@gmail.com'}], 'lastModifyingUserName': 'Alicja Senczyna', 'lastModifyingUser': {'kind': 'drive#user', 'displayName': 'Alicja Senczyna', 'picture': {'url': 'https://lh3.googleusercontent.com/a-/AOh14GhAh4EHg2nPOrs0X5a8fC6BBGPqeHyxSyu5fPTdgks=s64'}, 'isAuthenticatedUser': True, 'permissionId': '17816284780177274399', 'emailAddress': 'alasen24@gmail.com'}, 'capabilities': {'canCopy': True, 'canEdit': True}, 'editable': True, 'copyable': True, 'writersCanShare': True, 'shared': True, 'explicitlyTrashed': False, 'appDataContents': False, 'spaces': ['drive']})"
      ]
     },
     "execution_count": 57,
     "metadata": {},
     "output_type": "execute_result"
    }
   ],
   "source": [
    "csv_to_google_sheets('nasa_data.csv', 'nasa_data', '18xiAQC_UQxb0bhi3NNPDevBKlUztV5fl')"
   ]
  },
  {
   "cell_type": "code",
   "execution_count": null,
   "metadata": {},
   "outputs": [],
   "source": []
  }
 ],
 "metadata": {
  "interpreter": {
   "hash": "71714cd26d2e94dbd471fde720e72566855f7d911988f2f941b0c38f92f31a38"
  },
  "kernelspec": {
   "display_name": "Python 3.9.7 ('base')",
   "language": "python",
   "name": "python3"
  },
  "language_info": {
   "codemirror_mode": {
    "name": "ipython",
    "version": 3
   },
   "file_extension": ".py",
   "mimetype": "text/x-python",
   "name": "python",
   "nbconvert_exporter": "python",
   "pygments_lexer": "ipython3",
   "version": "3.9.7"
  },
  "orig_nbformat": 4
 },
 "nbformat": 4,
 "nbformat_minor": 2
}
